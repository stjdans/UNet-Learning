{
 "cells": [
  {
   "cell_type": "code",
   "execution_count": null,
   "id": "5e4b8fc6",
   "metadata": {},
   "outputs": [],
   "source": [
    "import tensorflow as tf\n",
    "import pandas as pd\n",
    "import pathlib\n",
    "import os\n",
    "import cv2\n",
    "import numpy as np\n",
    "import keras\n",
    "\n",
    "from PIL import Image\n",
    "\n",
    "from commonfun import create_dataset, apply_mask_overlay\n",
    "from model_func import build_unet_model\n",
    "\n",
    "print(\"Num GPUs Available: \", len(tf.config.list_physical_devices('GPU')))\n",
    "\n",
    "CAMVID_COLOR_MAP = {\n",
    "    0:  (128, 128, 128),  # Sky      \t# 하늘\n",
    "    1:  (128, 0, 0),      # Building \t# 건물\n",
    "    2:  (192, 192, 128),  # Pole\t\t\t# 전봇대, 기둥\n",
    "    3:  (128, 64, 128),   # Road\t\t\t# 도로\n",
    "    4:  (0, 0, 192),      # Pavement\t# 보도\n",
    "    5:  (128, 128, 0),    # Tree\t\t\t# 나무\n",
    "    6:  (192, 128, 128),  # SignSymbol # 교통표지판\n",
    "    7:  (64, 64, 128),    # Fence\t\t# 울타리\n",
    "    8:  (64, 0, 128),     # Car\t\t\t# 자동차\n",
    "    9:  (64, 64, 0),      # Pedestrian # 보행자\n",
    "    10: (0, 128, 192),    # Bicyclist\t# 자전거 타는 사람\n",
    "    11: (255, 255, 255)   # None\n",
    "}\n",
    "\n",
    "def applyColorMap(mask_arr, colormap=CAMVID_COLOR_MAP):\n",
    "  print('mask_arr : ', mask_arr.shape)\n",
    "  color_arr = np.array([colormap[i] for i in range(12)], dtype=np.uint8)\n",
    "  mask_arr = color_arr[mask_arr]\n",
    "\n",
    "  return mask_arr"
   ]
  },
  {
   "cell_type": "code",
   "execution_count": null,
   "id": "f75f1dae",
   "metadata": {},
   "outputs": [],
   "source": [
    "test_df = pd.read_csv('./CamVid/test.txt', sep=' ', header=None)\n",
    "test_df.columns = ['image', 'mask']\n",
    "\n",
    "test_df['image'] = test_df['image'].str.replace('/SegNet', '.')\n",
    "test_df['mask'] = test_df['mask'].str.replace('/SegNet', '.')\n",
    "\n",
    "test_df"
   ]
  },
  {
   "cell_type": "code",
   "execution_count": null,
   "id": "faad03fb",
   "metadata": {},
   "outputs": [],
   "source": [
    "val_df = pd.read_csv('./CamVid/val.txt', sep=' ', header=None)\n",
    "val_df.columns = ['image', 'mask']\n",
    "val_df['image'] = val_df['image'].str.replace('/SegNet', '.')\n",
    "val_df['mask'] = val_df['mask'].str.replace('/SegNet', '.')\n",
    "val_df"
   ]
  },
  {
   "cell_type": "code",
   "execution_count": null,
   "id": "a105bfa6",
   "metadata": {},
   "outputs": [],
   "source": [
    "image_paths = test_df['image'].values.tolist()\n",
    "mask_paths = test_df['mask'].values.tolist()"
   ]
  },
  {
   "cell_type": "code",
   "execution_count": null,
   "id": "a2943758",
   "metadata": {},
   "outputs": [],
   "source": [
    "val_image_paths = val_df['image'].values.tolist()\n",
    "val_mask_paths = val_df['mask'].values.tolist()"
   ]
  },
  {
   "cell_type": "code",
   "execution_count": null,
   "id": "1905a952",
   "metadata": {},
   "outputs": [],
   "source": [
    "train_ds = create_dataset(image_paths, mask_paths)\n",
    "\n",
    "train_ds"
   ]
  },
  {
   "cell_type": "code",
   "execution_count": null,
   "id": "b70d0407",
   "metadata": {},
   "outputs": [],
   "source": [
    "val_ds = create_dataset(val_image_paths, val_mask_paths)\n",
    "val_ds"
   ]
  },
  {
   "cell_type": "code",
   "execution_count": null,
   "id": "21e91657",
   "metadata": {},
   "outputs": [],
   "source": [
    "model = build_unet_model(input_shape=(256, 256, 1), num_class=12)\n",
    "\n",
    "model.compile(\n",
    "   loss='sparse_categorical_crossentropy',\n",
    "   optimizer='adam',\n",
    "   metrics=['accuracy']\n",
    ")\n",
    "\n",
    "model.summary()"
   ]
  },
  {
   "cell_type": "code",
   "execution_count": null,
   "id": "5a9567bf",
   "metadata": {},
   "outputs": [],
   "source": [
    "early_stop = keras.callbacks.EarlyStopping(monitor='val_loss', patience=3)\n",
    "model_check = keras.callbacks.ModelCheckpoint(\n",
    "   'unet_best.keras',\n",
    "   monitor='val_loss', \n",
    "   save_weights_only=False,\n",
    "   mode='min',\n",
    "   verbose=1\n",
    "   )\n",
    "\n",
    "model.fit(train_ds,\n",
    "          epochs=1,\n",
    "          validation_data=val_ds,\n",
    "          callbacks=[early_stop, model_check]\n",
    "   )"
   ]
  }
 ],
 "metadata": {
  "kernelspec": {
   "display_name": "Python 3",
   "language": "python",
   "name": "python3"
  },
  "language_info": {
   "codemirror_mode": {
    "name": "ipython",
    "version": 3
   },
   "file_extension": ".py",
   "mimetype": "text/x-python",
   "name": "python",
   "nbconvert_exporter": "python",
   "pygments_lexer": "ipython3",
   "version": "3.12.4"
  }
 },
 "nbformat": 4,
 "nbformat_minor": 5
}
